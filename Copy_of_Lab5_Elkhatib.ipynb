{
  "nbformat": 4,
  "nbformat_minor": 0,
  "metadata": {
    "colab": {
      "name": "Copy of Lab5-Elkhatib.ipynb",
      "provenance": [],
      "authorship_tag": "ABX9TyNY540Xaahg322izQAC+Bc7",
      "include_colab_link": true
    },
    "kernelspec": {
      "name": "python3",
      "display_name": "Python 3"
    },
    "language_info": {
      "name": "python"
    }
  },
  "cells": [
    {
      "cell_type": "markdown",
      "metadata": {
        "id": "view-in-github",
        "colab_type": "text"
      },
      "source": [
        "<a href=\"https://colab.research.google.com/github/unc5050/DO101-apps/blob/main/Copy_of_Lab5_Elkhatib.ipynb\" target=\"_parent\"><img src=\"https://colab.research.google.com/assets/colab-badge.svg\" alt=\"Open In Colab\"/></a>"
      ]
    },
    {
      "cell_type": "markdown",
      "source": [
        "Find the length of all the strings in the below list. Use a for loop or a while loop.\t(10 points)\n",
        "names = [“Jennifer”, “Albatross”, “Justin”, “Dave”, “Shankarnarayan”, “Ezra”, “Alice”, “Kwabena”]\n",
        "\n",
        "\n",
        "\n"
      ],
      "metadata": {
        "id": "DIbUkuMxvbzh"
      }
    },
    {
      "cell_type": "code",
      "source": [
        "names = [\"Jennifer\", \"Albatross\", \"Justin\", \"Dave\", \"Shankarnarayan\", \"Ezra\", \"Alice\", \"Kwabena\"]\n",
        "for i in names:\n",
        "    print(len(i))"
      ],
      "metadata": {
        "colab": {
          "base_uri": "https://localhost:8080/"
        },
        "id": "n3bpirBOvagk",
        "outputId": "71a0b198-9c23-4783-b899-9d5150c4979a"
      },
      "execution_count": null,
      "outputs": [
        {
          "output_type": "stream",
          "name": "stdout",
          "text": [
            "8\n",
            "9\n",
            "6\n",
            "4\n",
            "14\n",
            "4\n",
            "5\n",
            "7\n"
          ]
        }
      ]
    }
  ]
}