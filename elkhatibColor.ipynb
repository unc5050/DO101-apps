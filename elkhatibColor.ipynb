{
  "nbformat": 4,
  "nbformat_minor": 0,
  "metadata": {
    "colab": {
      "name": "elkhatibColor.ipynb",
      "provenance": [],
      "authorship_tag": "ABX9TyPo7fqwMLtYpLeOn35Z3i7F",
      "include_colab_link": true
    },
    "kernelspec": {
      "name": "python3",
      "display_name": "Python 3"
    },
    "language_info": {
      "name": "python"
    }
  },
  "cells": [
    {
      "cell_type": "markdown",
      "metadata": {
        "id": "view-in-github",
        "colab_type": "text"
      },
      "source": [
        "<a href=\"https://colab.research.google.com/github/unc5050/DO101-apps/blob/main/elkhatibColor.ipynb\" target=\"_parent\"><img src=\"https://colab.research.google.com/assets/colab-badge.svg\" alt=\"Open In Colab\"/></a>"
      ]
    },
    {
      "cell_type": "code",
      "execution_count": 4,
      "metadata": {
        "colab": {
          "base_uri": "https://localhost:8080/"
        },
        "id": "pd9krDiYLtqW",
        "outputId": "62c6bfeb-88a2-4535-86a3-6273f2da7841"
      },
      "outputs": [
        {
          "output_type": "stream",
          "name": "stdout",
          "text": [
            "\u001b[31m~~~RAINBOW~~~\u001b[0m\n",
            "\u001b[33m~~~RAINBOW~~~\u001b[0m\n",
            "\u001b[32m~~~RAINBOW~~~\u001b[0m\n",
            "\u001b[36m~~~RAINBOW~~~\u001b[0m\n",
            "\u001b[34m~~~RAINBOW~~~\u001b[0m\n",
            "\u001b[35m~~~RAINBOW~~~\u001b[0m\n"
          ]
        }
      ],
      "source": [
        "from termcolor import colored\n",
        "print(colored('~~~RAINBOW~~~', 'red'))\n",
        "print(colored('~~~RAINBOW~~~', 'yellow'))\n",
        "print(colored('~~~RAINBOW~~~', 'green'))\n",
        "print(colored('~~~RAINBOW~~~', 'cyan'))\n",
        "print(colored('~~~RAINBOW~~~', 'blue'))\n",
        "print(colored('~~~RAINBOW~~~', 'magenta'))\n"
      ]
    }
  ]
}