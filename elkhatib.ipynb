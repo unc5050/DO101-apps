{
  "nbformat": 4,
  "nbformat_minor": 0,
  "metadata": {
    "colab": {
      "name": "elkhatib.ipynb",
      "provenance": [],
      "authorship_tag": "ABX9TyP6J11Nz03kiM3S9qQkpvoi",
      "include_colab_link": true
    },
    "kernelspec": {
      "name": "python3",
      "display_name": "Python 3"
    },
    "language_info": {
      "name": "python"
    }
  },
  "cells": [
    {
      "cell_type": "markdown",
      "metadata": {
        "id": "view-in-github",
        "colab_type": "text"
      },
      "source": [
        "<a href=\"https://colab.research.google.com/github/unc5050/DO101-apps/blob/main/elkhatib.ipynb\" target=\"_parent\"><img src=\"https://colab.research.google.com/assets/colab-badge.svg\" alt=\"Open In Colab\"/></a>"
      ]
    },
    {
      "cell_type": "markdown",
      "source": [
        "Imagine you have a list top_scores list that can store only 5 numbers. Implement an algorithm in Python that simulates a high score leaderboard in a game. The high score leaderboard tracks the top 5 scores that have been posted so far. The behaviour of your program should mimic a leaderboard. Make suitable assumptions if necessary but write them in your solution, Use the following starter code"
      ],
      "metadata": {
        "id": "djXaDsvMP1F4"
      }
    },
    {
      "cell_type": "code",
      "source": [
        "import random\n",
        "top_scores=[]\n",
        "for x in range(50):\n",
        "  rand_num = random.randint(0,100) \n",
        "  if (len(top_scores)<5):\n",
        "      top_scores.append(rand_num)\n",
        "  else:\n",
        "        minScore=min(top_scores)\n",
        "        if (rand_num > minScore):\n",
        "         minScore_index=top_scores.index(minScore)\n",
        "         del top_scores[minScore_index]\n",
        "         top_scores.insert(minScore_index,rand_num)      \n",
        "print(\"Leader Board at the end :\",top_scores)\n"
      ],
      "metadata": {
        "colab": {
          "base_uri": "https://localhost:8080/"
        },
        "id": "VJC3YlcGoOrl",
        "outputId": "f6b5a175-ccd1-468e-d4a5-0156372f949a"
      },
      "execution_count": 38,
      "outputs": [
        {
          "output_type": "stream",
          "name": "stdout",
          "text": [
            "Leader Board at the end : [96, 94, 90, 93, 94]\n"
          ]
        }
      ]
    }
  ]
}