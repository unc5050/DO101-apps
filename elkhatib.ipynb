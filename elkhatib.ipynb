{
  "nbformat": 4,
  "nbformat_minor": 0,
  "metadata": {
    "colab": {
      "name": "elkhatib.ipynb",
      "provenance": [],
      "authorship_tag": "ABX9TyM5HjRkk/hQ+Ic5Hp13080V",
      "include_colab_link": true
    },
    "kernelspec": {
      "name": "python3",
      "display_name": "Python 3"
    },
    "language_info": {
      "name": "python"
    }
  },
  "cells": [
    {
      "cell_type": "markdown",
      "metadata": {
        "id": "view-in-github",
        "colab_type": "text"
      },
      "source": [
        "<a href=\"https://colab.research.google.com/github/unc5050/DO101-apps/blob/main/elkhatib.ipynb\" target=\"_parent\"><img src=\"https://colab.research.google.com/assets/colab-badge.svg\" alt=\"Open In Colab\"/></a>"
      ]
    },
    {
      "cell_type": "code",
      "execution_count": 1,
      "metadata": {
        "colab": {
          "base_uri": "https://localhost:8080/"
        },
        "id": "ydZ0qj6tnept",
        "outputId": "f7ffc0b7-a775-438b-c8db-900f97f3847a"
      },
      "outputs": [
        {
          "output_type": "stream",
          "name": "stdout",
          "text": [
            "40,91\n",
            "40,85\n",
            "40,15\n",
            "91,85\n",
            "91,15\n",
            "85,15\n"
          ]
        }
      ],
      "source": [
        "scores =[40,91,85,15]\n",
        "score=len(scores)\n",
        "for i in range(score):\n",
        "   for j in range(i+1,score): \n",
        "      print (str(scores[i]) + \",\" +str(scores[j]))"
      ]
    }
  ]
}