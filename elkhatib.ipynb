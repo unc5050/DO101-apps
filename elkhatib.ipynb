{
  "nbformat": 4,
  "nbformat_minor": 0,
  "metadata": {
    "colab": {
      "name": "elkhatib.ipynb",
      "provenance": [],
      "authorship_tag": "ABX9TyM9QblTrRh63vyk/n2T7rOk",
      "include_colab_link": true
    },
    "kernelspec": {
      "name": "python3",
      "display_name": "Python 3"
    },
    "language_info": {
      "name": "python"
    }
  },
  "cells": [
    {
      "cell_type": "markdown",
      "metadata": {
        "id": "view-in-github",
        "colab_type": "text"
      },
      "source": [
        "<a href=\"https://colab.research.google.com/github/unc5050/DO101-apps/blob/main/elkhatib.ipynb\" target=\"_parent\"><img src=\"https://colab.research.google.com/assets/colab-badge.svg\" alt=\"Open In Colab\"/></a>"
      ]
    },
    {
      "cell_type": "markdown",
      "source": [
        "Imagine you have a list top_scores list that can store only 5 numbers. Implement an algorithm in Python that simulates a high score leaderboard in a game. The high score leaderboard tracks the top 5 scores that have been posted so far. The behaviour of your program should mimic a leaderboard. Make suitable assumptions if necessary but write them in your solution, Use the following starter code"
      ],
      "metadata": {
        "id": "djXaDsvMP1F4"
      }
    },
    {
      "cell_type": "code",
      "source": [
        "import random\n",
        "top_scores=[]\n",
        "for x in range(50):\n",
        "  rand_num = random.randint(0,100) \n",
        "  if (len(top_scores)<5):\n",
        "      top_scores.append(rand_num)\n",
        "  else:\n",
        "       minVaule=min(top_scores)\n",
        "\n",
        "       if (rand_num > minVaule):\n",
        "         minVaule_index=top_scores.index(minVaule)\n",
        "         del top_scores[minVaule_index]\n",
        "         top_scores.insert(minVaule_index,rand_num)\n",
        "\n",
        "print(\"Leader Board at the end :\",top_scores)\n",
        "\n",
        "\n",
        "       "
      ],
      "metadata": {
        "colab": {
          "base_uri": "https://localhost:8080/"
        },
        "id": "10e956LkP3Tv",
        "outputId": "26237b9f-7042-46af-bdc3-3f037f2ddac9"
      },
      "execution_count": 28,
      "outputs": [
        {
          "output_type": "stream",
          "name": "stdout",
          "text": [
            "Leader Board at the end : [95, 93, 95, 97, 93]\n"
          ]
        }
      ]
    },
    {
      "cell_type": "code",
      "source": [
        "import random\n",
        "top_scores=[]\n",
        "for x in range(50):\n",
        "  rand_num = random.randint(0,100) \n",
        "  if (len(top_scores)<5):\n",
        "      top_scores.append(rand_num)\n",
        "  else:\n",
        "        minScore=min(top_scores)\n",
        "        if (rand_num > minScore):\n",
        "         minScore_index=top_scores.index(minScore)\n",
        "         del top_scores[minScore_index]\n",
        "         top_scores.insert(minScore_index,rand_num)      \n",
        "print(\"Leader Board at the end :\",top_scores)\n"
      ],
      "metadata": {
        "colab": {
          "base_uri": "https://localhost:8080/"
        },
        "id": "VJC3YlcGoOrl",
        "outputId": "2d79ebfe-a3a4-4c76-c8e8-5111be1a0bad"
      },
      "execution_count": 37,
      "outputs": [
        {
          "output_type": "stream",
          "name": "stdout",
          "text": [
            "Leader Board at the end : [95, 99, 100, 96, 95]\n"
          ]
        }
      ]
    }
  ]
}