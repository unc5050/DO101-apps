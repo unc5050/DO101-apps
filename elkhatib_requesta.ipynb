{
  "nbformat": 4,
  "nbformat_minor": 0,
  "metadata": {
    "colab": {
      "name": "elkhatib-requesta.ipynb",
      "provenance": [],
      "authorship_tag": "ABX9TyPS6lT/yksOx/1dSaZ8dJuO",
      "include_colab_link": true
    },
    "kernelspec": {
      "name": "python3",
      "display_name": "Python 3"
    },
    "language_info": {
      "name": "python"
    }
  },
  "cells": [
    {
      "cell_type": "markdown",
      "metadata": {
        "id": "view-in-github",
        "colab_type": "text"
      },
      "source": [
        "<a href=\"https://colab.research.google.com/github/unc5050/DO101-apps/blob/main/elkhatib_requesta.ipynb\" target=\"_parent\"><img src=\"https://colab.research.google.com/assets/colab-badge.svg\" alt=\"Open In Colab\"/></a>"
      ]
    },
    {
      "cell_type": "code",
      "execution_count": 35,
      "metadata": {
        "colab": {
          "base_uri": "https://localhost:8080/"
        },
        "id": "aaWOe-wJZwNR",
        "outputId": "59714f9b-bebf-4347-e9ed-f473c708b543"
      },
      "outputs": [
        {
          "output_type": "stream",
          "name": "stdout",
          "text": [
            "200 success\n",
            "text/html; charset=utf-8\n",
            "https://www.nytimes.com/\n",
            "\n"
          ]
        }
      ],
      "source": [
        "from requests import status_codes\n",
        "import requests\n",
        "\n",
        "\n",
        "x = requests.get(\"https://www.nytimes.com\")\n",
        "x= requests.head ('https://www.nytimes.com')\n",
        "if status_codes!=200:\n",
        "    print (x.status_code, 'success')\n",
        "else:\n",
        "    print(x.status_code, 'Error')\n",
        "print (x.headers['Content-Type']) \n",
        "print(x.url)\n",
        "print(x.text)"
      ]
    }
  ]
}