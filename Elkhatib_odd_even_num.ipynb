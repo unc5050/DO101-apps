{
  "nbformat": 4,
  "nbformat_minor": 0,
  "metadata": {
    "colab": {
      "name": "Elkhatib-odd.even-num.ipynb",
      "provenance": [],
      "collapsed_sections": [],
      "toc_visible": true,
      "authorship_tag": "ABX9TyNlHMga6LjQhZxTnxmziTJ/",
      "include_colab_link": true
    },
    "kernelspec": {
      "name": "python3",
      "display_name": "Python 3"
    },
    "language_info": {
      "name": "python"
    }
  },
  "cells": [
    {
      "cell_type": "markdown",
      "metadata": {
        "id": "view-in-github",
        "colab_type": "text"
      },
      "source": [
        "<a href=\"https://colab.research.google.com/github/unc5050/DO101-apps/blob/main/Elkhatib_odd_even_num.ipynb\" target=\"_parent\"><img src=\"https://colab.research.google.com/assets/colab-badge.svg\" alt=\"Open In Colab\"/></a>"
      ]
    },
    {
      "cell_type": "code",
      "execution_count": 8,
      "metadata": {
        "colab": {
          "base_uri": "https://localhost:8080/"
        },
        "id": "QRCttTAUxeKh",
        "outputId": "6c73931c-563b-4d43-d985-691a4b59d899"
      },
      "outputs": [
        {
          "output_type": "stream",
          "name": "stdout",
          "text": [
            "Enter a number: 90\n",
            "90 is even number \n"
          ]
        }
      ],
      "source": [
        "import math\n",
        "num= int(input(\"Enter a number: \"))\n",
        "if (num % 2)== 0:\n",
        "    print(\"{0} is even number \". format(num))\n",
        "else:\n",
        "  print(\"{0} is odd number \" . format(num))"
      ]
    }
  ]
}