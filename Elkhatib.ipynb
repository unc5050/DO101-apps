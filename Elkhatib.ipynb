{
  "nbformat": 4,
  "nbformat_minor": 0,
  "metadata": {
    "colab": {
      "name": "Elkhatib",
      "provenance": [],
      "authorship_tag": "ABX9TyMB3nMe+C5d75+LGhA2+dhQ",
      "include_colab_link": true
    },
    "kernelspec": {
      "name": "python3",
      "display_name": "Python 3"
    },
    "language_info": {
      "name": "python"
    }
  },
  "cells": [
    {
      "cell_type": "markdown",
      "metadata": {
        "id": "view-in-github",
        "colab_type": "text"
      },
      "source": [
        "<a href=\"https://colab.research.google.com/github/unc5050/DO101-apps/blob/main/Elkhatib.ipynb\" target=\"_parent\"><img src=\"https://colab.research.google.com/assets/colab-badge.svg\" alt=\"Open In Colab\"/></a>"
      ]
    },
    {
      "cell_type": "markdown",
      "source": [
        "2.\tWrite a Python program that determines if a username is valid or invalid. The input to your program is a string which is the username. Below are the requirements for a valid username.\n",
        "\n"
      ],
      "metadata": {
        "id": "JA4cTS7wS4vw"
      }
    },
    {
      "cell_type": "code",
      "source": [
        "def main():\n",
        "  username=input (\"Enter username : \")\n",
        "  if (len(username)>6):\n",
        "    for K in username:\n",
        "      if K.isupper():\n",
        "        print(\"Invalid username. Uppercase Charcter found\")\n",
        "        break\n",
        "    if username.islower():\n",
        "      flag=0\n",
        "      for i in username:\n",
        "         if (i=='@'or i=='$' or i=='_') :\n",
        "          flag=1\n",
        "         if (i.isdigit()):\n",
        "           flag=1 \n",
        "      if flag==1:\n",
        "            print (\"Valid username\")\n",
        "      else:\n",
        "            print (\"Invalid username\")\n",
        "  else:\n",
        "     print(\"Invalid username. the length should be greater than 6 Characters\") \n",
        "main()"
      ],
      "metadata": {
        "colab": {
          "base_uri": "https://localhost:8080/"
        },
        "id": "sY5ZEeoBS7QQ",
        "outputId": "5bb24ac4-44b9-4c05-c74f-f1ec37ecc648"
      },
      "execution_count": null,
      "outputs": [
        {
          "output_type": "stream",
          "name": "stdout",
          "text": [
            "Enter username : ABCxyxww\n",
            "Invalid username. Uppercase Charcter found\n"
          ]
        }
      ]
    }
  ]
}