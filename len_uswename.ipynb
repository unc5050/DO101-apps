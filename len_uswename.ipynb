{
  "nbformat": 4,
  "nbformat_minor": 0,
  "metadata": {
    "colab": {
      "name": "len.uswename.ipynb",
      "provenance": [],
      "authorship_tag": "ABX9TyM1DoR5amcOJu00lhQFrjpE",
      "include_colab_link": true
    },
    "kernelspec": {
      "name": "python3",
      "display_name": "Python 3"
    },
    "language_info": {
      "name": "python"
    }
  },
  "cells": [
    {
      "cell_type": "markdown",
      "metadata": {
        "id": "view-in-github",
        "colab_type": "text"
      },
      "source": [
        "<a href=\"https://colab.research.google.com/github/unc5050/DO101-apps/blob/main/len_uswename.ipynb\" target=\"_parent\"><img src=\"https://colab.research.google.com/assets/colab-badge.svg\" alt=\"Open In Colab\"/></a>"
      ]
    },
    {
      "cell_type": "markdown",
      "source": [
        "Use the len () function example in reference code to find the length of the username which you provide as input to your program"
      ],
      "metadata": {
        "id": "YaA8doND_AlE"
      }
    },
    {
      "cell_type": "code",
      "execution_count": null,
      "metadata": {
        "colab": {
          "base_uri": "https://localhost:8080/"
        },
        "id": "0WFfIlhs-_-e",
        "outputId": "923cb0f0-e63e-4355-e5b7-d43fefbdf714"
      },
      "outputs": [
        {
          "output_type": "stream",
          "name": "stdout",
          "text": [
            "Please enter username: \n",
            "student12233\n",
            "Valid username\n"
          ]
        }
      ],
      "source": [
        "print(\"Please enter username: \")\n",
        "username = input() \n",
        "length = len(username)\n",
        "if(length < 5 or length > 16):\n",
        "   print(\"Invalid username\")\n",
        "else:\n",
        "     print(\"Valid username\")"
      ]
    }
  ]
}