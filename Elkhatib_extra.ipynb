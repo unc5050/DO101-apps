{
  "nbformat": 4,
  "nbformat_minor": 0,
  "metadata": {
    "colab": {
      "name": "Elkhatib.extra.ipynb",
      "provenance": [],
      "authorship_tag": "ABX9TyOsEqDlq5669+03Ar8bMTeX",
      "include_colab_link": true
    },
    "kernelspec": {
      "name": "python3",
      "display_name": "Python 3"
    },
    "language_info": {
      "name": "python"
    }
  },
  "cells": [
    {
      "cell_type": "markdown",
      "metadata": {
        "id": "view-in-github",
        "colab_type": "text"
      },
      "source": [
        "<a href=\"https://colab.research.google.com/github/unc5050/DO101-apps/blob/main/Elkhatib_extra.ipynb\" target=\"_parent\"><img src=\"https://colab.research.google.com/assets/colab-badge.svg\" alt=\"Open In Colab\"/></a>"
      ]
    },
    {
      "cell_type": "markdown",
      "source": [
        "item_prices = [10, 40, 1, 16, 25, 34, 49, 40]\n",
        "\n",
        "You have a list of prices of items in a store. Write a program that prints all pairs of items that add up to 50. Your program should print the output as follows\n"
      ],
      "metadata": {
        "id": "_4YoY77K8KjO"
      }
    },
    {
      "cell_type": "code",
      "source": [
        "item_prices = [10, 40, 1, 16, 25, 34, 49, 40]\n",
        "for i in range(len(item_prices)):\n",
        "    for j in range(len(item_prices)):\n",
        "        if(i < j):\n",
        "            if(item_prices[i] + item_prices[j] == 50):\n",
        "                print(item_prices[i], \", \", item_prices[j])"
      ],
      "metadata": {
        "colab": {
          "base_uri": "https://localhost:8080/"
        },
        "id": "tQ9CPJbY7Vkv",
        "outputId": "e0c92d6a-dc3d-4162-bbe0-a199aa948201"
      },
      "execution_count": 1,
      "outputs": [
        {
          "output_type": "stream",
          "name": "stdout",
          "text": [
            "10 ,  40\n",
            "10 ,  40\n",
            "1 ,  49\n",
            "16 ,  34\n"
          ]
        }
      ]
    }
  ]
}